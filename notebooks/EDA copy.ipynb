{
  "cells": [
    {
      "attachments": {},
      "cell_type": "markdown",
      "metadata": {
        "id": "fwUFh8ZgwVMS"
      },
      "source": [
        "## Problem\n",
        " -  https://zindi.africa/competitions/flight-delay-prediction-challenge\n"
      ]
    },
    {
      "attachments": {},
      "cell_type": "markdown",
      "metadata": {
        "id": "vhLQjxNSwVMh"
      },
      "source": [
        "- Column data :\n",
        "    - DATOP - Date of flight\n",
        "    - FLTID - Flight number\n",
        "    - DEPSTN - Departure point\n",
        "    - ARRSTN - Arrival point\n",
        "    - STD - Scheduled Time departure\n",
        "    - STA - Scheduled Time arrival\n",
        "    - STATUS - Flight status\n",
        "    - ETD - Expected Time departure\n",
        "    - ETA - Expected Time arrival\n",
        "    - ATD - Actual Time of Departure\n",
        "    - AC  - AirCraft code\n",
        "  "
      ]
    },
    {
      "cell_type": "code",
      "execution_count": 64,
      "metadata": {
        "id": "BhHEonViwVMl"
      },
      "outputs": [],
      "source": [
        "import pandas as pd\n",
        "import numpy as np\n",
        "import matplotlib.pyplot as plt\n",
        "%matplotlib inline\n",
        "import warnings\n",
        "warnings.filterwarnings('ignore')\n",
        "import yaml\n",
        "from sklearn.linear_model import LinearRegression\n",
        "from sklearn.compose import ColumnTransformer\n",
        "from sklearn.tree import DecisionTreeRegressor\n",
        "from sklearn.ensemble import RandomForestRegressor\n",
        "from sklearn.svm import SVR\n",
        "from sklearn.neighbors import KNeighborsRegressor\n",
        "from sklearn.pipeline import Pipeline\n",
        "from sklearn.metrics import mean_squared_error\n",
        "from sklearn.model_selection import train_test_split,cross_val_score\n",
        "from sklearn.preprocessing import StandardScaler\n",
        "# import eli5\n",
        "# from eli5.sklearn import PermutationImportance\n",
        "import category_encoders as ce\n",
        "import seaborn as sns\n"
      ]
    },
    {
      "cell_type": "code",
      "execution_count": 65,
      "metadata": {
        "id": "4F2iGEpiwVMt"
      },
      "outputs": [
        {
          "ename": "FileNotFoundError",
          "evalue": "[Errno 2] No such file or directory: '/content/drive/MyDrive/etisalat/Train.csv'",
          "output_type": "error",
          "traceback": [
            "\u001b[1;31m---------------------------------------------------------------------------\u001b[0m",
            "\u001b[1;31mFileNotFoundError\u001b[0m                         Traceback (most recent call last)",
            "Cell \u001b[1;32mIn[65], line 7\u001b[0m\n\u001b[0;32m      2\u001b[0m     data\u001b[39m=\u001b[39myaml\u001b[39m.\u001b[39msafe_load(file)\n\u001b[0;32m      5\u001b[0m df\u001b[39m=\u001b[39mdata[\u001b[39m'\u001b[39m\u001b[39mtrain_path\u001b[39m\u001b[39m'\u001b[39m]\n\u001b[1;32m----> 7\u001b[0m df\u001b[39m=\u001b[39mpd\u001b[39m.\u001b[39;49mread_csv(\u001b[39m\"\u001b[39;49m\u001b[39m/content/drive/MyDrive/etisalat/Train.csv\u001b[39;49m\u001b[39m\"\u001b[39;49m)\n",
            "File \u001b[1;32me:\\Etisalat\\Projects\\ML\\.venv\\Lib\\site-packages\\pandas\\io\\parsers\\readers.py:1026\u001b[0m, in \u001b[0;36mread_csv\u001b[1;34m(filepath_or_buffer, sep, delimiter, header, names, index_col, usecols, dtype, engine, converters, true_values, false_values, skipinitialspace, skiprows, skipfooter, nrows, na_values, keep_default_na, na_filter, verbose, skip_blank_lines, parse_dates, infer_datetime_format, keep_date_col, date_parser, date_format, dayfirst, cache_dates, iterator, chunksize, compression, thousands, decimal, lineterminator, quotechar, quoting, doublequote, escapechar, comment, encoding, encoding_errors, dialect, on_bad_lines, delim_whitespace, low_memory, memory_map, float_precision, storage_options, dtype_backend)\u001b[0m\n\u001b[0;32m   1013\u001b[0m kwds_defaults \u001b[39m=\u001b[39m _refine_defaults_read(\n\u001b[0;32m   1014\u001b[0m     dialect,\n\u001b[0;32m   1015\u001b[0m     delimiter,\n\u001b[1;32m   (...)\u001b[0m\n\u001b[0;32m   1022\u001b[0m     dtype_backend\u001b[39m=\u001b[39mdtype_backend,\n\u001b[0;32m   1023\u001b[0m )\n\u001b[0;32m   1024\u001b[0m kwds\u001b[39m.\u001b[39mupdate(kwds_defaults)\n\u001b[1;32m-> 1026\u001b[0m \u001b[39mreturn\u001b[39;00m _read(filepath_or_buffer, kwds)\n",
            "File \u001b[1;32me:\\Etisalat\\Projects\\ML\\.venv\\Lib\\site-packages\\pandas\\io\\parsers\\readers.py:620\u001b[0m, in \u001b[0;36m_read\u001b[1;34m(filepath_or_buffer, kwds)\u001b[0m\n\u001b[0;32m    617\u001b[0m _validate_names(kwds\u001b[39m.\u001b[39mget(\u001b[39m\"\u001b[39m\u001b[39mnames\u001b[39m\u001b[39m\"\u001b[39m, \u001b[39mNone\u001b[39;00m))\n\u001b[0;32m    619\u001b[0m \u001b[39m# Create the parser.\u001b[39;00m\n\u001b[1;32m--> 620\u001b[0m parser \u001b[39m=\u001b[39m TextFileReader(filepath_or_buffer, \u001b[39m*\u001b[39;49m\u001b[39m*\u001b[39;49mkwds)\n\u001b[0;32m    622\u001b[0m \u001b[39mif\u001b[39;00m chunksize \u001b[39mor\u001b[39;00m iterator:\n\u001b[0;32m    623\u001b[0m     \u001b[39mreturn\u001b[39;00m parser\n",
            "File \u001b[1;32me:\\Etisalat\\Projects\\ML\\.venv\\Lib\\site-packages\\pandas\\io\\parsers\\readers.py:1620\u001b[0m, in \u001b[0;36mTextFileReader.__init__\u001b[1;34m(self, f, engine, **kwds)\u001b[0m\n\u001b[0;32m   1617\u001b[0m     \u001b[39mself\u001b[39m\u001b[39m.\u001b[39moptions[\u001b[39m\"\u001b[39m\u001b[39mhas_index_names\u001b[39m\u001b[39m\"\u001b[39m] \u001b[39m=\u001b[39m kwds[\u001b[39m\"\u001b[39m\u001b[39mhas_index_names\u001b[39m\u001b[39m\"\u001b[39m]\n\u001b[0;32m   1619\u001b[0m \u001b[39mself\u001b[39m\u001b[39m.\u001b[39mhandles: IOHandles \u001b[39m|\u001b[39m \u001b[39mNone\u001b[39;00m \u001b[39m=\u001b[39m \u001b[39mNone\u001b[39;00m\n\u001b[1;32m-> 1620\u001b[0m \u001b[39mself\u001b[39m\u001b[39m.\u001b[39m_engine \u001b[39m=\u001b[39m \u001b[39mself\u001b[39;49m\u001b[39m.\u001b[39;49m_make_engine(f, \u001b[39mself\u001b[39;49m\u001b[39m.\u001b[39;49mengine)\n",
            "File \u001b[1;32me:\\Etisalat\\Projects\\ML\\.venv\\Lib\\site-packages\\pandas\\io\\parsers\\readers.py:1880\u001b[0m, in \u001b[0;36mTextFileReader._make_engine\u001b[1;34m(self, f, engine)\u001b[0m\n\u001b[0;32m   1878\u001b[0m     \u001b[39mif\u001b[39;00m \u001b[39m\"\u001b[39m\u001b[39mb\u001b[39m\u001b[39m\"\u001b[39m \u001b[39mnot\u001b[39;00m \u001b[39min\u001b[39;00m mode:\n\u001b[0;32m   1879\u001b[0m         mode \u001b[39m+\u001b[39m\u001b[39m=\u001b[39m \u001b[39m\"\u001b[39m\u001b[39mb\u001b[39m\u001b[39m\"\u001b[39m\n\u001b[1;32m-> 1880\u001b[0m \u001b[39mself\u001b[39m\u001b[39m.\u001b[39mhandles \u001b[39m=\u001b[39m get_handle(\n\u001b[0;32m   1881\u001b[0m     f,\n\u001b[0;32m   1882\u001b[0m     mode,\n\u001b[0;32m   1883\u001b[0m     encoding\u001b[39m=\u001b[39;49m\u001b[39mself\u001b[39;49m\u001b[39m.\u001b[39;49moptions\u001b[39m.\u001b[39;49mget(\u001b[39m\"\u001b[39;49m\u001b[39mencoding\u001b[39;49m\u001b[39m\"\u001b[39;49m, \u001b[39mNone\u001b[39;49;00m),\n\u001b[0;32m   1884\u001b[0m     compression\u001b[39m=\u001b[39;49m\u001b[39mself\u001b[39;49m\u001b[39m.\u001b[39;49moptions\u001b[39m.\u001b[39;49mget(\u001b[39m\"\u001b[39;49m\u001b[39mcompression\u001b[39;49m\u001b[39m\"\u001b[39;49m, \u001b[39mNone\u001b[39;49;00m),\n\u001b[0;32m   1885\u001b[0m     memory_map\u001b[39m=\u001b[39;49m\u001b[39mself\u001b[39;49m\u001b[39m.\u001b[39;49moptions\u001b[39m.\u001b[39;49mget(\u001b[39m\"\u001b[39;49m\u001b[39mmemory_map\u001b[39;49m\u001b[39m\"\u001b[39;49m, \u001b[39mFalse\u001b[39;49;00m),\n\u001b[0;32m   1886\u001b[0m     is_text\u001b[39m=\u001b[39;49mis_text,\n\u001b[0;32m   1887\u001b[0m     errors\u001b[39m=\u001b[39;49m\u001b[39mself\u001b[39;49m\u001b[39m.\u001b[39;49moptions\u001b[39m.\u001b[39;49mget(\u001b[39m\"\u001b[39;49m\u001b[39mencoding_errors\u001b[39;49m\u001b[39m\"\u001b[39;49m, \u001b[39m\"\u001b[39;49m\u001b[39mstrict\u001b[39;49m\u001b[39m\"\u001b[39;49m),\n\u001b[0;32m   1888\u001b[0m     storage_options\u001b[39m=\u001b[39;49m\u001b[39mself\u001b[39;49m\u001b[39m.\u001b[39;49moptions\u001b[39m.\u001b[39;49mget(\u001b[39m\"\u001b[39;49m\u001b[39mstorage_options\u001b[39;49m\u001b[39m\"\u001b[39;49m, \u001b[39mNone\u001b[39;49;00m),\n\u001b[0;32m   1889\u001b[0m )\n\u001b[0;32m   1890\u001b[0m \u001b[39massert\u001b[39;00m \u001b[39mself\u001b[39m\u001b[39m.\u001b[39mhandles \u001b[39mis\u001b[39;00m \u001b[39mnot\u001b[39;00m \u001b[39mNone\u001b[39;00m\n\u001b[0;32m   1891\u001b[0m f \u001b[39m=\u001b[39m \u001b[39mself\u001b[39m\u001b[39m.\u001b[39mhandles\u001b[39m.\u001b[39mhandle\n",
            "File \u001b[1;32me:\\Etisalat\\Projects\\ML\\.venv\\Lib\\site-packages\\pandas\\io\\common.py:873\u001b[0m, in \u001b[0;36mget_handle\u001b[1;34m(path_or_buf, mode, encoding, compression, memory_map, is_text, errors, storage_options)\u001b[0m\n\u001b[0;32m    868\u001b[0m \u001b[39melif\u001b[39;00m \u001b[39misinstance\u001b[39m(handle, \u001b[39mstr\u001b[39m):\n\u001b[0;32m    869\u001b[0m     \u001b[39m# Check whether the filename is to be opened in binary mode.\u001b[39;00m\n\u001b[0;32m    870\u001b[0m     \u001b[39m# Binary mode does not support 'encoding' and 'newline'.\u001b[39;00m\n\u001b[0;32m    871\u001b[0m     \u001b[39mif\u001b[39;00m ioargs\u001b[39m.\u001b[39mencoding \u001b[39mand\u001b[39;00m \u001b[39m\"\u001b[39m\u001b[39mb\u001b[39m\u001b[39m\"\u001b[39m \u001b[39mnot\u001b[39;00m \u001b[39min\u001b[39;00m ioargs\u001b[39m.\u001b[39mmode:\n\u001b[0;32m    872\u001b[0m         \u001b[39m# Encoding\u001b[39;00m\n\u001b[1;32m--> 873\u001b[0m         handle \u001b[39m=\u001b[39m \u001b[39mopen\u001b[39;49m(\n\u001b[0;32m    874\u001b[0m             handle,\n\u001b[0;32m    875\u001b[0m             ioargs\u001b[39m.\u001b[39;49mmode,\n\u001b[0;32m    876\u001b[0m             encoding\u001b[39m=\u001b[39;49mioargs\u001b[39m.\u001b[39;49mencoding,\n\u001b[0;32m    877\u001b[0m             errors\u001b[39m=\u001b[39;49merrors,\n\u001b[0;32m    878\u001b[0m             newline\u001b[39m=\u001b[39;49m\u001b[39m\"\u001b[39;49m\u001b[39m\"\u001b[39;49m,\n\u001b[0;32m    879\u001b[0m         )\n\u001b[0;32m    880\u001b[0m     \u001b[39melse\u001b[39;00m:\n\u001b[0;32m    881\u001b[0m         \u001b[39m# Binary mode\u001b[39;00m\n\u001b[0;32m    882\u001b[0m         handle \u001b[39m=\u001b[39m \u001b[39mopen\u001b[39m(handle, ioargs\u001b[39m.\u001b[39mmode)\n",
            "\u001b[1;31mFileNotFoundError\u001b[0m: [Errno 2] No such file or directory: '/content/drive/MyDrive/etisalat/Train.csv'"
          ]
        }
      ],
      "source": [
        "\n",
        "with open (\"E:\\Etisalat\\Projects\\ML\\data_paths.yaml\",'r') as file:\n",
        "    data=yaml.safe_load(file)\n",
        "\n",
        "\n",
        "df=data['train_path']\n",
        "\n",
        "df=pd.read_csv(df)\n"
      ]
    },
    {
      "cell_type": "code",
      "execution_count": null,
      "metadata": {
        "id": "OBV-U1QawVMv",
        "outputId": "19c25a18-86ef-405d-f818-d939c0c73059"
      },
      "outputs": [
        {
          "data": {
            "text/html": [
              "<div>\n",
              "<style scoped>\n",
              "    .dataframe tbody tr th:only-of-type {\n",
              "        vertical-align: middle;\n",
              "    }\n",
              "\n",
              "    .dataframe tbody tr th {\n",
              "        vertical-align: top;\n",
              "    }\n",
              "\n",
              "    .dataframe thead th {\n",
              "        text-align: right;\n",
              "    }\n",
              "</style>\n",
              "<table border=\"1\" class=\"dataframe\">\n",
              "  <thead>\n",
              "    <tr style=\"text-align: right;\">\n",
              "      <th></th>\n",
              "      <th>ID</th>\n",
              "      <th>DATOP</th>\n",
              "      <th>FLTID</th>\n",
              "      <th>DEPSTN</th>\n",
              "      <th>ARRSTN</th>\n",
              "      <th>STD</th>\n",
              "      <th>STA</th>\n",
              "      <th>STATUS</th>\n",
              "      <th>AC</th>\n",
              "      <th>target</th>\n",
              "    </tr>\n",
              "  </thead>\n",
              "  <tbody>\n",
              "    <tr>\n",
              "      <th>0</th>\n",
              "      <td>train_id_0</td>\n",
              "      <td>2016-01-03</td>\n",
              "      <td>TU 0712</td>\n",
              "      <td>CMN</td>\n",
              "      <td>TUN</td>\n",
              "      <td>2016-01-03 10:30:00</td>\n",
              "      <td>2016-01-03 12.55.00</td>\n",
              "      <td>ATA</td>\n",
              "      <td>TU 32AIMN</td>\n",
              "      <td>260.0</td>\n",
              "    </tr>\n",
              "    <tr>\n",
              "      <th>1</th>\n",
              "      <td>train_id_1</td>\n",
              "      <td>2016-01-13</td>\n",
              "      <td>TU 0757</td>\n",
              "      <td>MXP</td>\n",
              "      <td>TUN</td>\n",
              "      <td>2016-01-13 15:05:00</td>\n",
              "      <td>2016-01-13 16.55.00</td>\n",
              "      <td>ATA</td>\n",
              "      <td>TU 31BIMO</td>\n",
              "      <td>20.0</td>\n",
              "    </tr>\n",
              "    <tr>\n",
              "      <th>2</th>\n",
              "      <td>train_id_2</td>\n",
              "      <td>2016-01-16</td>\n",
              "      <td>TU 0214</td>\n",
              "      <td>TUN</td>\n",
              "      <td>IST</td>\n",
              "      <td>2016-01-16 04:10:00</td>\n",
              "      <td>2016-01-16 06.45.00</td>\n",
              "      <td>ATA</td>\n",
              "      <td>TU 32AIMN</td>\n",
              "      <td>0.0</td>\n",
              "    </tr>\n",
              "    <tr>\n",
              "      <th>3</th>\n",
              "      <td>train_id_3</td>\n",
              "      <td>2016-01-17</td>\n",
              "      <td>TU 0480</td>\n",
              "      <td>DJE</td>\n",
              "      <td>NTE</td>\n",
              "      <td>2016-01-17 14:10:00</td>\n",
              "      <td>2016-01-17 17.00.00</td>\n",
              "      <td>ATA</td>\n",
              "      <td>TU 736IOK</td>\n",
              "      <td>0.0</td>\n",
              "    </tr>\n",
              "    <tr>\n",
              "      <th>4</th>\n",
              "      <td>train_id_4</td>\n",
              "      <td>2016-01-17</td>\n",
              "      <td>TU 0338</td>\n",
              "      <td>TUN</td>\n",
              "      <td>ALG</td>\n",
              "      <td>2016-01-17 14:30:00</td>\n",
              "      <td>2016-01-17 15.50.00</td>\n",
              "      <td>ATA</td>\n",
              "      <td>TU 320IMU</td>\n",
              "      <td>22.0</td>\n",
              "    </tr>\n",
              "  </tbody>\n",
              "</table>\n",
              "</div>"
            ],
            "text/plain": [
              "           ID       DATOP     FLTID DEPSTN ARRSTN                  STD  \\\n",
              "0  train_id_0  2016-01-03  TU 0712     CMN    TUN  2016-01-03 10:30:00   \n",
              "1  train_id_1  2016-01-13  TU 0757     MXP    TUN  2016-01-13 15:05:00   \n",
              "2  train_id_2  2016-01-16  TU 0214     TUN    IST  2016-01-16 04:10:00   \n",
              "3  train_id_3  2016-01-17  TU 0480     DJE    NTE  2016-01-17 14:10:00   \n",
              "4  train_id_4  2016-01-17  TU 0338     TUN    ALG  2016-01-17 14:30:00   \n",
              "\n",
              "                   STA STATUS         AC  target  \n",
              "0  2016-01-03 12.55.00    ATA  TU 32AIMN   260.0  \n",
              "1  2016-01-13 16.55.00    ATA  TU 31BIMO    20.0  \n",
              "2  2016-01-16 06.45.00    ATA  TU 32AIMN     0.0  \n",
              "3  2016-01-17 17.00.00    ATA  TU 736IOK     0.0  \n",
              "4  2016-01-17 15.50.00    ATA  TU 320IMU    22.0  "
            ]
          },
          "execution_count": 3,
          "metadata": {},
          "output_type": "execute_result"
        }
      ],
      "source": [
        "df.head()"
      ]
    },
    {
      "cell_type": "code",
      "execution_count": null,
      "metadata": {
        "id": "G2MmQ6lXwVMw",
        "outputId": "a484c627-f5e2-417d-e196-7c11dacc19ae"
      },
      "outputs": [
        {
          "name": "stdout",
          "output_type": "stream",
          "text": [
            "<class 'pandas.core.frame.DataFrame'>\n",
            "RangeIndex: 107833 entries, 0 to 107832\n",
            "Data columns (total 10 columns):\n",
            " #   Column  Non-Null Count   Dtype  \n",
            "---  ------  --------------   -----  \n",
            " 0   ID      107833 non-null  object \n",
            " 1   DATOP   107833 non-null  object \n",
            " 2   FLTID   107833 non-null  object \n",
            " 3   DEPSTN  107833 non-null  object \n",
            " 4   ARRSTN  107833 non-null  object \n",
            " 5   STD     107833 non-null  object \n",
            " 6   STA     107833 non-null  object \n",
            " 7   STATUS  107833 non-null  object \n",
            " 8   AC      107833 non-null  object \n",
            " 9   target  107833 non-null  float64\n",
            "dtypes: float64(1), object(9)\n",
            "memory usage: 8.2+ MB\n"
          ]
        }
      ],
      "source": [
        "df.info()"
      ]
    },
    {
      "cell_type": "code",
      "execution_count": null,
      "metadata": {
        "id": "6Vv9TdXvwVMy",
        "outputId": "eadd4391-dddf-4fcb-cd8f-29eecfdde47d"
      },
      "outputs": [
        {
          "data": {
            "text/html": [
              "<div>\n",
              "<style scoped>\n",
              "    .dataframe tbody tr th:only-of-type {\n",
              "        vertical-align: middle;\n",
              "    }\n",
              "\n",
              "    .dataframe tbody tr th {\n",
              "        vertical-align: top;\n",
              "    }\n",
              "\n",
              "    .dataframe thead th {\n",
              "        text-align: right;\n",
              "    }\n",
              "</style>\n",
              "<table border=\"1\" class=\"dataframe\">\n",
              "  <thead>\n",
              "    <tr style=\"text-align: right;\">\n",
              "      <th></th>\n",
              "      <th>target</th>\n",
              "    </tr>\n",
              "  </thead>\n",
              "  <tbody>\n",
              "    <tr>\n",
              "      <th>count</th>\n",
              "      <td>107833.000000</td>\n",
              "    </tr>\n",
              "    <tr>\n",
              "      <th>mean</th>\n",
              "      <td>48.733013</td>\n",
              "    </tr>\n",
              "    <tr>\n",
              "      <th>std</th>\n",
              "      <td>117.135562</td>\n",
              "    </tr>\n",
              "    <tr>\n",
              "      <th>min</th>\n",
              "      <td>0.000000</td>\n",
              "    </tr>\n",
              "    <tr>\n",
              "      <th>25%</th>\n",
              "      <td>0.000000</td>\n",
              "    </tr>\n",
              "    <tr>\n",
              "      <th>50%</th>\n",
              "      <td>14.000000</td>\n",
              "    </tr>\n",
              "    <tr>\n",
              "      <th>75%</th>\n",
              "      <td>43.000000</td>\n",
              "    </tr>\n",
              "    <tr>\n",
              "      <th>max</th>\n",
              "      <td>3451.000000</td>\n",
              "    </tr>\n",
              "  </tbody>\n",
              "</table>\n",
              "</div>"
            ],
            "text/plain": [
              "              target\n",
              "count  107833.000000\n",
              "mean       48.733013\n",
              "std       117.135562\n",
              "min         0.000000\n",
              "25%         0.000000\n",
              "50%        14.000000\n",
              "75%        43.000000\n",
              "max      3451.000000"
            ]
          },
          "execution_count": 5,
          "metadata": {},
          "output_type": "execute_result"
        }
      ],
      "source": [
        "df.describe()"
      ]
    },
    {
      "attachments": {},
      "cell_type": "markdown",
      "metadata": {
        "id": "VFgewQdXwVM0"
      },
      "source": [
        "- From describe function :\n",
        "   -  The maximum delay 2 and half day from its scheduled time\n",
        "   -  Half of all secheduled flights are delayed 14 min"
      ]
    },
    {
      "cell_type": "code",
      "execution_count": null,
      "metadata": {
        "id": "lgttZoHxwVM2",
        "outputId": "690d243f-95b4-462c-d953-f80ad9eae252"
      },
      "outputs": [
        {
          "data": {
            "text/plain": [
              "True"
            ]
          },
          "execution_count": 6,
          "metadata": {},
          "output_type": "execute_result"
        }
      ],
      "source": [
        "len(df.duplicated()==False)==len(df)"
      ]
    },
    {
      "cell_type": "code",
      "execution_count": null,
      "metadata": {
        "id": "mvI55FzuwVM4",
        "outputId": "09803baf-74f7-4230-e97f-7bca4e06fa31"
      },
      "outputs": [
        {
          "data": {
            "text/plain": [
              "1861"
            ]
          },
          "execution_count": 7,
          "metadata": {},
          "output_type": "execute_result"
        }
      ],
      "source": [
        "len(df['FLTID'].unique())"
      ]
    },
    {
      "cell_type": "code",
      "execution_count": null,
      "metadata": {
        "id": "yeG2APf2wVM5",
        "outputId": "d13ae5d0-1f8a-4d93-a5b4-bd314bfdb814"
      },
      "outputs": [
        {
          "data": {
            "text/plain": [
              "array(['ATA', 'DEP', 'RTR', 'SCH', 'DEL'], dtype=object)"
            ]
          },
          "execution_count": 8,
          "metadata": {},
          "output_type": "execute_result"
        }
      ],
      "source": [
        "df['STATUS'].unique()"
      ]
    },
    {
      "cell_type": "code",
      "execution_count": null,
      "metadata": {
        "id": "11n8koqXwVM7",
        "outputId": "8c608df6-075f-4f2c-92ab-fd67f8563a6e"
      },
      "outputs": [
        {
          "data": {
            "text/plain": [
              "STATUS\n",
              "ATA    93679\n",
              "SCH    13242\n",
              "DEP      467\n",
              "RTR      294\n",
              "DEL      151\n",
              "Name: count, dtype: int64"
            ]
          },
          "execution_count": 9,
          "metadata": {},
          "output_type": "execute_result"
        }
      ],
      "source": [
        "df['STATUS'].value_counts()"
      ]
    },
    {
      "cell_type": "code",
      "execution_count": null,
      "metadata": {
        "id": "6rQvL1JDwVM9",
        "outputId": "728b1d84-6b6d-4b43-b3d8-9cacd5839e01"
      },
      "outputs": [
        {
          "data": {
            "text/plain": [
              "ID        107833\n",
              "DATOP       1011\n",
              "FLTID       1861\n",
              "DEPSTN       132\n",
              "ARRSTN       128\n",
              "STD        81697\n",
              "STA        85136\n",
              "STATUS         5\n",
              "AC            68\n",
              "target       968\n",
              "dtype: int64"
            ]
          },
          "execution_count": 10,
          "metadata": {},
          "output_type": "execute_result"
        }
      ],
      "source": [
        "df.nunique()"
      ]
    },
    {
      "cell_type": "code",
      "execution_count": 6,
      "metadata": {
        "id": "LsFAFiHEwVM-"
      },
      "outputs": [],
      "source": [
        "#first replace the . with :\n",
        "df['STD']=df['STD'].apply(lambda x : x.replace('.',':'))\n",
        "df['STA']=df['STA'].apply(lambda x : x.replace('.',':'))\n",
        "# Then convert the object to date type\n",
        "dates_flight=['DATOP','STD','STA']\n",
        "for i in dates_flight :\n",
        "    df[i] =pd.to_datetime(df[i])\n",
        "\n",
        "\n",
        "#create a column with the differnce between the STD AND STA in MINs\n",
        "df['DIFF_STD_STA']=(df['STA']-df['STD'] ).dt.total_seconds() /60"
      ]
    },
    {
      "cell_type": "code",
      "execution_count": null,
      "metadata": {
        "id": "zY4cYhHFwVM_",
        "outputId": "52ba2c46-e212-4f14-da9d-b599cc265924"
      },
      "outputs": [
        {
          "name": "stdout",
          "output_type": "stream",
          "text": [
            "DEPSTN\n",
            "TUN    42522\n",
            "DJE    10252\n",
            "ORY     6755\n",
            "MIR     5248\n",
            "MRS     2845\n",
            "       ...  \n",
            "GHA        1\n",
            "KRR        1\n",
            "STR        1\n",
            "TPS        1\n",
            "CTA        1\n",
            "Name: count, Length: 132, dtype: int64\n"
          ]
        }
      ],
      "source": [
        "value_counts = df['DEPSTN'].value_counts()\n",
        "print(value_counts)"
      ]
    },
    {
      "cell_type": "code",
      "execution_count": null,
      "metadata": {
        "id": "xCdKsQv-wVNA",
        "outputId": "5266dead-2d7c-4372-f5f9-441288ba8df1"
      },
      "outputs": [
        {
          "data": {
            "text/plain": [
              "132"
            ]
          },
          "execution_count": 13,
          "metadata": {},
          "output_type": "execute_result"
        }
      ],
      "source": [
        "len(df['DEPSTN'].unique())"
      ]
    },
    {
      "cell_type": "code",
      "execution_count": null,
      "metadata": {
        "id": "yv1GuIjmwVNA"
      },
      "outputs": [],
      "source": [
        "flight_points_0= df[df['target'] == 0]\n",
        "flight_points_1= df[df['target'] == 1]\n",
        "#Group by DEPSTN and ARRSTN\n",
        "flight_points_0 = flight_points_0[['DEPSTN', 'ARRSTN']].groupby(['DEPSTN', 'ARRSTN']).size().reset_index(name='NO_DELAYS')\n",
        "flight_points_1=flight_points_0[['DEPSTN', 'ARRSTN']].groupby(['DEPSTN', 'ARRSTN']).size().reset_index(name='DALAYS')"
      ]
    },
    {
      "cell_type": "code",
      "execution_count": null,
      "metadata": {
        "id": "xEbC1e5vwVNB",
        "outputId": "ce7f926e-dbfe-4b1f-a4d1-7ab4efb7a1f4"
      },
      "outputs": [
        {
          "data": {
            "text/html": [
              "<div>\n",
              "<style scoped>\n",
              "    .dataframe tbody tr th:only-of-type {\n",
              "        vertical-align: middle;\n",
              "    }\n",
              "\n",
              "    .dataframe tbody tr th {\n",
              "        vertical-align: top;\n",
              "    }\n",
              "\n",
              "    .dataframe thead th {\n",
              "        text-align: right;\n",
              "    }\n",
              "</style>\n",
              "<table border=\"1\" class=\"dataframe\">\n",
              "  <thead>\n",
              "    <tr style=\"text-align: right;\">\n",
              "      <th></th>\n",
              "      <th>DEPSTN</th>\n",
              "      <th>ARRSTN</th>\n",
              "      <th>NO_DELAYS</th>\n",
              "      <th>DALAYS</th>\n",
              "    </tr>\n",
              "  </thead>\n",
              "  <tbody>\n",
              "    <tr>\n",
              "      <th>555</th>\n",
              "      <td>TUN</td>\n",
              "      <td>TUN</td>\n",
              "      <td>4150</td>\n",
              "      <td>1</td>\n",
              "    </tr>\n",
              "    <tr>\n",
              "      <th>138</th>\n",
              "      <td>DJE</td>\n",
              "      <td>TUN</td>\n",
              "      <td>3248</td>\n",
              "      <td>1</td>\n",
              "    </tr>\n",
              "    <tr>\n",
              "      <th>499</th>\n",
              "      <td>TUN</td>\n",
              "      <td>DJE</td>\n",
              "      <td>2902</td>\n",
              "      <td>1</td>\n",
              "    </tr>\n",
              "    <tr>\n",
              "      <th>392</th>\n",
              "      <td>ORY</td>\n",
              "      <td>TUN</td>\n",
              "      <td>808</td>\n",
              "      <td>1</td>\n",
              "    </tr>\n",
              "    <tr>\n",
              "      <th>540</th>\n",
              "      <td>TUN</td>\n",
              "      <td>ORY</td>\n",
              "      <td>627</td>\n",
              "      <td>1</td>\n",
              "    </tr>\n",
              "    <tr>\n",
              "      <th>...</th>\n",
              "      <td>...</td>\n",
              "      <td>...</td>\n",
              "      <td>...</td>\n",
              "      <td>...</td>\n",
              "    </tr>\n",
              "    <tr>\n",
              "      <th>553</th>\n",
              "      <td>TUN</td>\n",
              "      <td>TPS</td>\n",
              "      <td>1</td>\n",
              "      <td>1</td>\n",
              "    </tr>\n",
              "    <tr>\n",
              "      <th>554</th>\n",
              "      <td>TUN</td>\n",
              "      <td>TRN</td>\n",
              "      <td>1</td>\n",
              "      <td>1</td>\n",
              "    </tr>\n",
              "    <tr>\n",
              "      <th>562</th>\n",
              "      <td>VCE</td>\n",
              "      <td>VCE</td>\n",
              "      <td>1</td>\n",
              "      <td>1</td>\n",
              "    </tr>\n",
              "    <tr>\n",
              "      <th>2</th>\n",
              "      <td>ABJ</td>\n",
              "      <td>BKO</td>\n",
              "      <td>1</td>\n",
              "      <td>1</td>\n",
              "    </tr>\n",
              "    <tr>\n",
              "      <th>0</th>\n",
              "      <td>AAL</td>\n",
              "      <td>DJE</td>\n",
              "      <td>1</td>\n",
              "      <td>1</td>\n",
              "    </tr>\n",
              "  </tbody>\n",
              "</table>\n",
              "<p>583 rows × 4 columns</p>\n",
              "</div>"
            ],
            "text/plain": [
              "    DEPSTN ARRSTN  NO_DELAYS  DALAYS\n",
              "555    TUN    TUN       4150       1\n",
              "138    DJE    TUN       3248       1\n",
              "499    TUN    DJE       2902       1\n",
              "392    ORY    TUN        808       1\n",
              "540    TUN    ORY        627       1\n",
              "..     ...    ...        ...     ...\n",
              "553    TUN    TPS          1       1\n",
              "554    TUN    TRN          1       1\n",
              "562    VCE    VCE          1       1\n",
              "2      ABJ    BKO          1       1\n",
              "0      AAL    DJE          1       1\n",
              "\n",
              "[583 rows x 4 columns]"
            ]
          },
          "execution_count": 15,
          "metadata": {},
          "output_type": "execute_result"
        }
      ],
      "source": [
        "merged = pd.merge(flight_points_0, flight_points_1, on=['DEPSTN', 'ARRSTN'], how='outer')\n",
        "sorted_merged = merged.sort_values(by='NO_DELAYS', ascending=False)\n",
        "sorted_merged"
      ]
    },
    {
      "cell_type": "code",
      "execution_count": null,
      "metadata": {
        "id": "IWEZ3K_YwVNC",
        "outputId": "04f1423a-9337-48cd-c99a-5ec1b849dbdf"
      },
      "outputs": [
        {
          "data": {
            "text/plain": [
              "68"
            ]
          },
          "execution_count": 17,
          "metadata": {},
          "output_type": "execute_result"
        }
      ],
      "source": [
        "len(df['AC'].unique())"
      ]
    },
    {
      "cell_type": "code",
      "execution_count": null,
      "metadata": {
        "id": "STFmNx0EwVND",
        "outputId": "dac0b0ad-a0c9-4756-9f8d-061f0adf8a1e"
      },
      "outputs": [
        {
          "data": {
            "image/png": "[encoded data removed]",
            "text/plain": [
              "<Figure size 640x480 with 1 Axes>"
            ]
          },
          "metadata": {},
          "output_type": "display_data"
        }
      ],
      "source": [
        "plt.hist(x=df['target'])\n",
        "plt.show()"
      ]
    },
    {
      "attachments": {},
      "cell_type": "markdown",
      "metadata": {
        "id": "W-QWiYr7wVNE"
      },
      "source": []
    },
    {
      "cell_type": "code",
      "execution_count": null,
      "metadata": {
        "id": "jBx_hIC6wVNE",
        "outputId": "85e96c62-7c97-4cea-8836-3a06db160bab"
      },
      "outputs": [
        {
          "data": {
            "text/plain": [
              "<Axes: xlabel='STATUS', ylabel='target'>"
            ]
          },
          "execution_count": 19,
          "metadata": {},
          "output_type": "execute_result"
        },
        {
          "data": {
            "image/png": "[encoded data removed]",
            "text/plain": [
              "<Figure size 640x480 with 1 Axes>"
            ]
          },
          "metadata": {},
          "output_type": "display_data"
        }
      ],
      "source": [
        "sns.barplot(df,x='STATUS',y='target')"
      ]
    },
    {
      "cell_type": "code",
      "execution_count": null,
      "metadata": {
        "id": "u581d1KnwVNF",
        "outputId": "b20c1e82-0f2a-4629-e956-fbd629b03150"
      },
      "outputs": [
        {
          "data": {
            "text/plain": [
              "Index(['ID', 'DATOP', 'FLTID', 'DEPSTN', 'ARRSTN', 'STD', 'STA', 'STATUS',\n",
              "       'AC', 'target', 'DIFF_STD_STA'],\n",
              "      dtype='object')"
            ]
          },
          "execution_count": 20,
          "metadata": {},
          "output_type": "execute_result"
        }
      ],
      "source": [
        "df.columns"
      ]
    },
    {
      "cell_type": "code",
      "execution_count": 7,
      "metadata": {
        "id": "nwdhDfXfwVNF"
      },
      "outputs": [],
      "source": [
        "df_Cp=df.copy()\n",
        "columns_drop=['ID','DATOP','FLTID','STD', 'STA','AC']\n",
        "df_Cp.drop(columns=columns_drop,inplace=True)"
      ]
    },
    {
      "cell_type": "code",
      "execution_count": null,
      "metadata": {
        "id": "GVNW-m8-wVNG",
        "outputId": "4a978758-2b9c-408f-dd6c-5913aa54bdb7"
      },
      "outputs": [
        {
          "data": {
            "text/html": [
              "<div>\n",
              "<style scoped>\n",
              "    .dataframe tbody tr th:only-of-type {\n",
              "        vertical-align: middle;\n",
              "    }\n",
              "\n",
              "    .dataframe tbody tr th {\n",
              "        vertical-align: top;\n",
              "    }\n",
              "\n",
              "    .dataframe thead th {\n",
              "        text-align: right;\n",
              "    }\n",
              "</style>\n",
              "<table border=\"1\" class=\"dataframe\">\n",
              "  <thead>\n",
              "    <tr style=\"text-align: right;\">\n",
              "      <th></th>\n",
              "      <th>DEPSTN</th>\n",
              "      <th>ARRSTN</th>\n",
              "      <th>STATUS</th>\n",
              "      <th>target</th>\n",
              "      <th>DIFF_STD_STA</th>\n",
              "    </tr>\n",
              "  </thead>\n",
              "  <tbody>\n",
              "    <tr>\n",
              "      <th>0</th>\n",
              "      <td>CMN</td>\n",
              "      <td>TUN</td>\n",
              "      <td>ATA</td>\n",
              "      <td>260.0</td>\n",
              "      <td>145.0</td>\n",
              "    </tr>\n",
              "    <tr>\n",
              "      <th>1</th>\n",
              "      <td>MXP</td>\n",
              "      <td>TUN</td>\n",
              "      <td>ATA</td>\n",
              "      <td>20.0</td>\n",
              "      <td>110.0</td>\n",
              "    </tr>\n",
              "    <tr>\n",
              "      <th>2</th>\n",
              "      <td>TUN</td>\n",
              "      <td>IST</td>\n",
              "      <td>ATA</td>\n",
              "      <td>0.0</td>\n",
              "      <td>155.0</td>\n",
              "    </tr>\n",
              "    <tr>\n",
              "      <th>3</th>\n",
              "      <td>DJE</td>\n",
              "      <td>NTE</td>\n",
              "      <td>ATA</td>\n",
              "      <td>0.0</td>\n",
              "      <td>170.0</td>\n",
              "    </tr>\n",
              "    <tr>\n",
              "      <th>4</th>\n",
              "      <td>TUN</td>\n",
              "      <td>ALG</td>\n",
              "      <td>ATA</td>\n",
              "      <td>22.0</td>\n",
              "      <td>80.0</td>\n",
              "    </tr>\n",
              "  </tbody>\n",
              "</table>\n",
              "</div>"
            ],
            "text/plain": [
              "  DEPSTN ARRSTN STATUS  target  DIFF_STD_STA\n",
              "0    CMN    TUN    ATA   260.0         145.0\n",
              "1    MXP    TUN    ATA    20.0         110.0\n",
              "2    TUN    IST    ATA     0.0         155.0\n",
              "3    DJE    NTE    ATA     0.0         170.0\n",
              "4    TUN    ALG    ATA    22.0          80.0"
            ]
          },
          "execution_count": 22,
          "metadata": {},
          "output_type": "execute_result"
        }
      ],
      "source": [
        "df_Cp.head()"
      ]
    },
    {
      "attachments": {},
      "cell_type": "markdown",
      "metadata": {
        "id": "s2ZRElufwVNH"
      },
      "source": [
        "##  Preprocessing"
      ]
    },
    {
      "cell_type": "code",
      "execution_count": 8,
      "metadata": {
        "colab": {
          "base_uri": "https://localhost:8080/"
        },
        "id": "yJiJ8vdYwVNI",
        "outputId": "7129bd1e-af02-44ad-e849-6f436816221b"
      },
      "outputs": [
        {
          "name": "stdout",
          "output_type": "stream",
          "text": [
            "['DEPSTN', 'ARRSTN', 'STATUS'] \n",
            " ['DIFF_STD_STA']\n"
          ]
        }
      ],
      "source": [
        "categorical_features=[ col_name for col_name in df_Cp.columns if df[col_name].dtype=='object']\n",
        "neumeric_features=[ col_name for col_name in df_Cp.columns if df[col_name].dtype!='object' and col_name!='target']\n",
        "print(categorical_features,'\\n',\n",
        "      neumeric_features)"
      ]
    },
    {
      "cell_type": "code",
      "execution_count": 9,
      "metadata": {
        "id": "ju6B8pdJwVNJ"
      },
      "outputs": [],
      "source": [
        "X=df_Cp.drop(columns=['target'])\n",
        "y=df_Cp['target']\n",
        "X_train, X_test, y_train, y_test = train_test_split(X, y, test_size=0.2, random_state=42)"
      ]
    },
    {
      "attachments": {},
      "cell_type": "markdown",
      "metadata": {
        "id": "0ahw9wPIwVNL"
      },
      "source": [
        "##### Apply some techniques for showing the impact of the features on the model after traning\n",
        "- Permutation Improvment\n",
        "- Partial Dependency\n",
        "- SHAP Analysis"
      ]
    },
    {
      "cell_type": "code",
      "execution_count": 27,
      "metadata": {
        "colab": {
          "base_uri": "https://localhost:8080/",
          "height": 121
        },
        "id": "n80kFoNH0wSh",
        "outputId": "c17d68ee-98c1-4257-80ab-7213e77b3794"
      },
      "outputs": [
        {
          "name": "stdout",
          "output_type": "stream",
          "text": [
            "Final model score: 0.03655775167633102\n"
          ]
        },
        {
          "data": {
            "text/html": [
              "\n",
              "    <style>\n",
              "    table.eli5-weights tr:hover {\n",
              "        filter: brightness(85%);\n",
              "    }\n",
              "</style>\n",
              "\n",
              "\n",
              "\n",
              "    \n",
              "\n",
              "    \n",
              "\n",
              "    \n",
              "\n",
              "    \n",
              "\n",
              "    \n",
              "\n",
              "    \n",
              "\n",
              "\n",
              "    \n",
              "\n",
              "    \n",
              "\n",
              "    \n",
              "\n",
              "    \n",
              "\n",
              "    \n",
              "\n",
              "    \n",
              "\n",
              "\n",
              "    \n",
              "\n",
              "    \n",
              "\n",
              "    \n",
              "\n",
              "    \n",
              "\n",
              "    \n",
              "        <table class=\"eli5-weights eli5-feature-importances\" style=\"border-collapse: collapse; border: none; margin-top: 0em; table-layout: auto;\">\n",
              "    <thead>\n",
              "    <tr style=\"border: none;\">\n",
              "        <th style=\"padding: 0 1em 0 0.5em; text-align: right; border: none;\">Weight</th>\n",
              "        <th style=\"padding: 0 0.5em 0 0.5em; text-align: left; border: none;\">Feature</th>\n",
              "    </tr>\n",
              "    </thead>\n",
              "    <tbody>\n",
              "    \n",
              "        <tr style=\"background-color: hsl(120, 100.00%, 80.00%); border: none;\">\n",
              "            <td style=\"padding: 0 1em 0 0.5em; text-align: right; border: none;\">\n",
              "                0.6145\n",
              "                \n",
              "                    &plusmn; 0.0097\n",
              "                \n",
              "            </td>\n",
              "            <td style=\"padding: 0 0.5em 0 0.5em; text-align: left; border: none;\">\n",
              "                cat__STATUS\n",
              "            </td>\n",
              "        </tr>\n",
              "    \n",
              "        <tr style=\"background-color: hsl(120, 100.00%, 80.28%); border: none;\">\n",
              "            <td style=\"padding: 0 1em 0 0.5em; text-align: right; border: none;\">\n",
              "                0.6023\n",
              "                \n",
              "                    &plusmn; 0.0100\n",
              "                \n",
              "            </td>\n",
              "            <td style=\"padding: 0 0.5em 0 0.5em; text-align: left; border: none;\">\n",
              "                cat__DEPSTN\n",
              "            </td>\n",
              "        </tr>\n",
              "    \n",
              "        <tr style=\"background-color: hsl(120, 100.00%, 87.78%); border: none;\">\n",
              "            <td style=\"padding: 0 1em 0 0.5em; text-align: right; border: none;\">\n",
              "                0.3039\n",
              "                \n",
              "                    &plusmn; 0.0026\n",
              "                \n",
              "            </td>\n",
              "            <td style=\"padding: 0 0.5em 0 0.5em; text-align: left; border: none;\">\n",
              "                cat__ARRSTN\n",
              "            </td>\n",
              "        </tr>\n",
              "    \n",
              "        <tr style=\"background-color: hsl(120, 100.00%, 99.99%); border: none;\">\n",
              "            <td style=\"padding: 0 1em 0 0.5em; text-align: right; border: none;\">\n",
              "                0.0000\n",
              "                \n",
              "                    &plusmn; 0.0000\n",
              "                \n",
              "            </td>\n",
              "            <td style=\"padding: 0 0.5em 0 0.5em; text-align: left; border: none;\">\n",
              "                num__DIFF_STD_STA\n",
              "            </td>\n",
              "        </tr>\n",
              "    \n",
              "    \n",
              "    </tbody>\n",
              "</table>\n",
              "    \n",
              "\n",
              "    \n",
              "\n",
              "\n",
              "    \n",
              "\n",
              "    \n",
              "\n",
              "    \n",
              "\n",
              "    \n",
              "\n",
              "    \n",
              "\n",
              "    \n",
              "\n",
              "\n",
              "\n"
            ],
            "text/plain": [
              "<IPython.core.display.HTML object>"
            ]
          },
          "execution_count": 27,
          "metadata": {},
          "output_type": "execute_result"
        }
      ],
      "source": [
        "def train_model(model, X_train, y_train, X_test, y_test):\n",
        "\n",
        "    preprocessor = ColumnTransformer(\n",
        "        transformers=[\n",
        "            ('num', StandardScaler(), neumeric_features),\n",
        "            ('cat', ce.TargetEncoder(cols=categorical_features), categorical_features)\n",
        "        ]\n",
        "    )\n",
        "\n",
        "    pipeline = Pipeline(steps=[\n",
        "        ('preprocessor', preprocessor),\n",
        "        ('model', model)\n",
        "    ])\n",
        "\n",
        "    pipeline.fit(X_train, y_train)\n",
        "\n",
        "    predictions = pipeline.predict(X_test)\n",
        "\n",
        "    score = pipeline.score(X_test, y_test)\n",
        "    print(\"Final model score:\", score)\n",
        "    return pipeline, predictions\n",
        "\n",
        "lr = LinearRegression()\n",
        "pipeline_res, predictions = train_model(lr, X_train, y_train, X_test, y_test)\n",
        "\n",
        "X_test_transformed = pipeline_res.named_steps['preprocessor'].transform(X_test)\n",
        "\n",
        "perm_importance = PermutationImportance(pipeline_res.named_steps['model'], random_state=42)\n",
        "perm_importance.fit(X_test_transformed, predictions)\n",
        "\n",
        "eli5.show_weights(perm_importance, feature_names=pipeline_res.named_steps['preprocessor'].get_feature_names_out())\n",
        "\n",
        "\n"
      ]
    },
    {
      "attachments": {},
      "cell_type": "markdown",
      "metadata": {
        "id": "ioWI0_LB3tl3"
      },
      "source": [
        "-  Partial Dependency"
      ]
    },
    {
      "cell_type": "code",
      "execution_count": 31,
      "metadata": {
        "id": "_A5_Y6cy3tP7"
      },
      "outputs": [],
      "source": [
        "import shap"
      ]
    },
    {
      "cell_type": "code",
      "execution_count": 32,
      "metadata": {
        "colab": {
          "base_uri": "https://localhost:8080/",
          "height": 316
        },
        "id": "HJqmrtmc4z66",
        "outputId": "7efd03e1-c2f3-4d48-dda9-b6f334c7c4cc"
      },
      "outputs": [
        {
          "data": {
            "image/png": "[encoded data removed]",
            "text/plain": [
              "<Figure size 800x310 with 2 Axes>"
            ]
          },
          "metadata": {},
          "output_type": "display_data"
        }
      ],
      "source": [
        "explainer = shap.Explainer(pipeline_res.named_steps['model'], X_test_transformed)\n",
        "shap_values = explainer(X_test_transformed)\n",
        "\n",
        "# Plot SHAP values\n",
        "shap.summary_plot(shap_values, X_test_transformed, feature_names=pipeline_res.named_steps['preprocessor'].get_feature_names_out())\n"
      ]
    },
    {
      "cell_type": "code",
      "execution_count": null,
      "metadata": {
        "id": "Z-suVgqD6Djq"
      },
      "outputs": [],
      "source": []
    }
  ],
  "metadata": {
    "colab": {
      "provenance": []
    },
    "kernelspec": {
      "display_name": ".venv",
      "language": "python",
      "name": "python3"
    },
    "language_info": {
      "codemirror_mode": {
        "name": "ipython",
        "version": 3
      },
      "file_extension": ".py",
      "mimetype": "text/x-python",
      "name": "python",
      "nbconvert_exporter": "python",
      "pygments_lexer": "ipython3",
      "version": "3.12.1"
    },
    "orig_nbformat": 4
  },
  "nbformat": 4,
  "nbformat_minor": 0
}
